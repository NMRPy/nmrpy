{
 "cells": [
  {
   "cell_type": "markdown",
   "metadata": {
    "run_control": {
     "marked": false
    }
   },
   "source": [
    "# NMRPy quickstart tutorial"
   ]
  },
  {
   "cell_type": "markdown",
   "metadata": {
    "run_control": {
     "marked": false
    }
   },
   "source": [
    "Refer to https://nmrpy.readthedocs.io/en/latest/quickstart.html"
   ]
  },
  {
   "cell_type": "code",
   "execution_count": null,
   "metadata": {
    "run_control": {
     "marked": false
    }
   },
   "outputs": [],
   "source": [
    "import matplotlib\n",
    "%matplotlib ipympl\n",
    "import nmrpy\n",
    "import numpy as np\n",
    "import scipy as sp\n",
    "from matplotlib import pyplot as plt\n",
    "import os"
   ]
  },
  {
   "cell_type": "markdown",
   "metadata": {},
   "source": [
    "## Importing"
   ]
  },
  {
   "cell_type": "markdown",
   "metadata": {},
   "source": [
    "The basic NMR project object used in NMRPy is the `FidArray`, which consists of a set of `Fid` objects, each representing a single spectrum in an array of spectra.\n",
    "\n",
    "The simplest way to instantiate an `FidArray` is by using the `from_path()` method, and specifying the path of the .fid directory:"
   ]
  },
  {
   "cell_type": "code",
   "execution_count": null,
   "metadata": {
    "run_control": {
     "marked": false
    }
   },
   "outputs": [],
   "source": [
    "fname = os.path.join(os.path.dirname(nmrpy.__file__),'tests','test_data','test1.fid')\n",
    "fid_array = nmrpy.from_path(fname)"
   ]
  },
  {
   "cell_type": "markdown",
   "metadata": {},
   "source": [
    "You will notice that the `fid_array` object is instantiated and now owns several attributes, most of which are of the form `fidXX` where XX is a number starting at 00. These are the individual arrayed `Fid` objects."
   ]
  },
  {
   "cell_type": "markdown",
   "metadata": {},
   "source": [
    "## Apodisation and Fourier transform"
   ]
  },
  {
   "cell_type": "markdown",
   "metadata": {},
   "source": [
    "To quickly visualise the imported data, we can use the plotting functions owned by each `Fid` instance. This will not display the imaginary portion of the data:"
   ]
  },
  {
   "cell_type": "code",
   "execution_count": null,
   "metadata": {
    "run_control": {
     "marked": false
    }
   },
   "outputs": [],
   "source": [
    "fid_array.fid00.plot_ppm()"
   ]
  },
  {
   "cell_type": "markdown",
   "metadata": {},
   "source": [
    "We now perform apodisation of the FIDs using the default value of 5 Hz, and visualise the result:"
   ]
  },
  {
   "cell_type": "code",
   "execution_count": null,
   "metadata": {
    "run_control": {
     "marked": false
    }
   },
   "outputs": [],
   "source": [
    "fid_array.emhz_fids()\n",
    "fid_array.fid00.plot_ppm()"
   ]
  },
  {
   "cell_type": "markdown",
   "metadata": {},
   "source": [
    "Finally, we zero-fill and Fourier-transform the data into the frequency domain:"
   ]
  },
  {
   "cell_type": "code",
   "execution_count": null,
   "metadata": {
    "run_control": {
     "marked": false
    }
   },
   "outputs": [],
   "source": [
    "fid_array.zf_fids()\n",
    "fid_array.ft_fids()\n",
    "fid_array.fid00.plot_ppm()"
   ]
  },
  {
   "cell_type": "markdown",
   "metadata": {},
   "source": [
    "## Phase-correction"
   ]
  },
  {
   "cell_type": "markdown",
   "metadata": {},
   "source": [
    "It is clear from the data visualisation that at this stage the spectra require phase-correction. NMRPy provides a number of GUI widgets for manual processing of data. In this case we will use the `phaser()` method on `fid00`.\n",
    "\n",
    "Dragging with the left mouse button and right mouse button will apply zero- and first-order phase-correction, respectively. The cumulative phase correction for the zero-order (`p0`) and first-order (`p1`) phase angles is displayed at the bottom of the plot so that these can be applied programatically to all `Fid` objects in the `FidArray` using the `ps_fids()` method."
   ]
  },
  {
   "cell_type": "code",
   "execution_count": null,
   "metadata": {
    "run_control": {
     "marked": false
    }
   },
   "outputs": [],
   "source": [
    "fid_array.fid00.phaser()"
   ]
  },
  {
   "cell_type": "markdown",
   "metadata": {},
   "source": [
    "Alternatively, *automatic* phase-correction can be applied at either the `FidArray` or `Fid` level. We will apply it to the whole array:"
   ]
  },
  {
   "cell_type": "code",
   "execution_count": null,
   "metadata": {
    "run_control": {
     "marked": false
    }
   },
   "outputs": [],
   "source": [
    "fid_array.phase_correct_fids()"
   ]
  },
  {
   "cell_type": "markdown",
   "metadata": {},
   "source": [
    "At this stage it is useful to discard the imaginary component of our data, and possibly normalise the data (by the maximum data value amongst the `Fid` objects):"
   ]
  },
  {
   "cell_type": "code",
   "execution_count": null,
   "metadata": {
    "run_control": {
     "marked": false
    }
   },
   "outputs": [],
   "source": [
    "fid_array.real_fids()\n",
    "fid_array.norm_fids()"
   ]
  },
  {
   "cell_type": "markdown",
   "metadata": {},
   "source": [
    "And plot an array of the phase-corrected data:"
   ]
  },
  {
   "cell_type": "code",
   "execution_count": null,
   "metadata": {
    "run_control": {
     "marked": false
    },
    "scrolled": false
   },
   "outputs": [],
   "source": [
    "fid_array.plot_array()"
   ]
  },
  {
   "cell_type": "markdown",
   "metadata": {},
   "source": [
    "Zooming in on the relevant peaks, changing the view perspective, and filling the spectra produces a more interesting plot:"
   ]
  },
  {
   "cell_type": "code",
   "execution_count": null,
   "metadata": {
    "run_control": {
     "marked": false
    }
   },
   "outputs": [],
   "source": [
    "fid_array.plot_array(upper_ppm=7, lower_ppm=-1, filled=True, azim=-76, elev=23)"
   ]
  },
  {
   "cell_type": "markdown",
   "metadata": {},
   "source": [
    "## Calibration"
   ]
  },
  {
   "cell_type": "markdown",
   "metadata": {},
   "source": [
    "The spectra may need calibration by assigning a chemical shift to a reference peak of a known standard and adjusting the spectral offset accordingly. To this end, a `calibrate()` convenience method exists that allows the user to easily select a peak and specify the PPM. This method can be applied at either the `FidArray` or `Fid` level. We will apply it to the whole array.\n",
    "\n",
    "Left-clicking selects a peak and its current ppm value is displayed below the spectrum. The new ppm value can be entered in a text box, and hitting `Enter` completes the calibration process. Here we have chosen triethyl phosphate (TEP) as reference peak and assigned its chemical shift value of 0.44 ppm (the original value was 0.57 ppm, and the offset of all the spectra in the array has been adjusted by 0.13 ppm after the calibration)."
   ]
  },
  {
   "cell_type": "code",
   "execution_count": null,
   "metadata": {},
   "outputs": [],
   "source": [
    "fid_array.calibrate()"
   ]
  },
  {
   "cell_type": "markdown",
   "metadata": {},
   "source": [
    "## Peak-picking"
   ]
  },
  {
   "cell_type": "markdown",
   "metadata": {},
   "source": [
    "To begin the process of integrating peaks by deconvolution, we will need to pick some peaks. The `peaks` attribute of a `Fid` is an array of peak positions, and `ranges` is an array of range boundaries. These two objects are used in deconvolution to integrate the data by fitting Lorentzian/Gaussian peak shapes to the spectra. `peaks` and `ranges` may be specified programatically, or picked using the interactive GUI widget.\n",
    "\n",
    "Left-clicking specifies a peak selection with a vertical red line. Dragging with a right-click specifies a range to fit independently with a grey rectangle. Inadvertent wrongly selected peaks can be deleted with Ctrl+left-click; wrongly selected ranges can be deleted with Ctrl+right-click. Once you are done selecting peaks and ranges, these need to be assigned to the `FidArray`; this is achieved with a Ctrl+Alt+right-click."
   ]
  },
  {
   "cell_type": "code",
   "execution_count": null,
   "metadata": {
    "run_control": {
     "marked": false
    },
    "scrolled": false
   },
   "outputs": [],
   "source": [
    "fid_array.peakpicker(fid_number=10, assign_only_to_index=False)"
   ]
  },
  {
   "cell_type": "markdown",
   "metadata": {},
   "source": [
    "Ranges divide the data into smaller portions, which significantly speeds up the process of fitting of peakshapes to the data. Range-specification also prevents incorrect peaks from being fitted by the fitting algorithm.\n",
    "\n",
    "Having used the `peakpicker()` `FidArray` method (as opposed to the `peakpicker()` on each individual `Fid` instance), the peak and range selections have now been assigned to each Fid in the array:"
   ]
  },
  {
   "cell_type": "code",
   "execution_count": null,
   "metadata": {
    "run_control": {
     "marked": false
    }
   },
   "outputs": [],
   "source": [
    "print(fid_array.fid00.peaks)"
   ]
  },
  {
   "cell_type": "code",
   "execution_count": null,
   "metadata": {
    "run_control": {
     "marked": false
    }
   },
   "outputs": [],
   "source": [
    "print(fid_array.fid00.ranges)"
   ]
  },
  {
   "cell_type": "markdown",
   "metadata": {},
   "source": [
    "### Peak-picking trace selector"
   ]
  },
  {
   "cell_type": "markdown",
   "metadata": {},
   "source": [
    "Sometimes peaks are subject to drift so that the chemical shift changes over time; this can happen, e.g., when the pH of the reaction mixture changes as the reaction proceeds. NMRPy offers a convenient trace selector, `peakpicker_traces()`, with which the drift of the peaks can be traced over time and the chemical shift selected accordingly as appropriate for the particular `Fid`.\n",
    "\n",
    "As for the `peakpicker()`, ranges are selected by dragging the right mouse button and can be deleted with Ctrl+right-click. A peak trace is initiated by left-clicking below the peak underneath the first `Fid` in the series. This selects a point and anchors the trace line, which is displayed in red as the mouse is moved. The trace will attempt to follow the highest peak. Further trace points can be added by repeated left-clicking, thus tracing the peak through the individual `Fid`s in the series. It is not necessary to add an anchor point for every `Fid`, only when the trace needs to change direction. Once the trace has traversed all the `Fid`s, select a final trace point (left-click) and then finalize the trace with a right-click. The trace will change colour from red to blue to indicate that it has been finalized.\n",
    "\n",
    "Additional peaks can then be selected by initiating a new trace. Wrongly selected traces can be deleted by Ctrl+left-click at the bottom of the trace that should be removed. Note that the interactive buttons on the matplotlib toolbar for the figure can be used to zoom and pan into a region of interest of the spectra. As previously, peaks and ranges need to be assigned to the `FidArray` with Ctrl+Alt+right-click. "
   ]
  },
  {
   "cell_type": "code",
   "execution_count": null,
   "metadata": {
    "run_control": {
     "marked": false
    },
    "scrolled": false
   },
   "outputs": [],
   "source": [
    "fid_array.peakpicker_traces(voff=0.08)"
   ]
  },
  {
   "cell_type": "markdown",
   "metadata": {},
   "source": [
    "If these trace lines don't run exactly vertically, individual peaks have different chemical shifts for the different `Fid`s, although in this particular case the drift in the spectra is not significant so that `peakpicker_traces()` need not have been used and `peakpicker()` would have been sufficient. This is merely for illustrative purposes."
   ]
  },
  {
   "cell_type": "code",
   "execution_count": null,
   "metadata": {
    "run_control": {
     "marked": false
    }
   },
   "outputs": [],
   "source": [
    "print(fid_array.fid00.peaks)\n",
    "print(fid_array.fid10.peaks)\n",
    "print(fid_array.fid20.peaks)"
   ]
  },
  {
   "cell_type": "markdown",
   "metadata": {},
   "source": [
    "## Deconvolution"
   ]
  },
  {
   "cell_type": "markdown",
   "metadata": {},
   "source": [
    "**Note:**\n",
    "\n",
    "If you *have not* assigned peaks and ranges using any of the peakpicker widgets above,\n",
    "**uncomment the following cell** to assign peaks and ranges to continue with the deconvolution."
   ]
  },
  {
   "cell_type": "code",
   "execution_count": null,
   "metadata": {
    "run_control": {
     "marked": false
    }
   },
   "outputs": [],
   "source": [
    "# peaks = [ 4.73,  4.63,  4.15,  0.55]\n",
    "# ranges = [[ 5.92,  3.24], [ 1.19, -0.01]]\n",
    "# for fid in fid_array.get_fids():\n",
    "#     fid.peaks = peaks\n",
    "#     fid.ranges = ranges"
   ]
  },
  {
   "cell_type": "markdown",
   "metadata": {},
   "source": [
    "Individual `Fid` objects can be deconvoluted with `deconv()`. `FidArray` objects can be deconvoluted with `deconv_fids()`. By default this is a multiprocessed method (`mp=True`), which will fit pure Lorentzian lineshapes (`frac_gauss=0.0`) to the `peaks` and `ranges` specified in each `Fid`.\n",
    "\n",
    "We shall fit the whole array at once:"
   ]
  },
  {
   "cell_type": "code",
   "execution_count": null,
   "metadata": {
    "run_control": {
     "marked": false
    }
   },
   "outputs": [],
   "source": [
    "fid_array.deconv_fids()"
   ]
  },
  {
   "cell_type": "markdown",
   "metadata": {},
   "source": [
    "And visualise the deconvoluted spectra:"
   ]
  },
  {
   "cell_type": "code",
   "execution_count": null,
   "metadata": {
    "run_control": {
     "marked": false
    }
   },
   "outputs": [],
   "source": [
    "fid_array.fid10.plot_deconv()"
   ]
  },
  {
   "cell_type": "markdown",
   "metadata": {},
   "source": [
    "Zooming-in to a set of peaks makes clear the fitting result:"
   ]
  },
  {
   "cell_type": "code",
   "execution_count": null,
   "metadata": {
    "run_control": {
     "marked": false
    },
    "scrolled": true
   },
   "outputs": [],
   "source": [
    "fid_array.fid10.plot_deconv(upper_ppm=5.5, lower_ppm=3.5)\n",
    "fid_array.fid10.plot_deconv(upper_ppm=0.9, lower_ppm=0.2)"
   ]
  },
  {
   "cell_type": "markdown",
   "metadata": {},
   "source": [
    "    *Black*: original data; \n",
    "    *Blue*:  individual peak shapes (and peak numbers above); \n",
    "    *Red*:   summed peak shapes; \n",
    "    *Green*: residual (original data - summed peakshapes)."
   ]
  },
  {
   "cell_type": "markdown",
   "metadata": {},
   "source": [
    "In this case, peaks 0 and 1 belong to glucose-6-phosphate, peak 2 belongs to fructose-6-phosphate, and peak 3 belongs to triethyl-phosphate (internal standard).\n",
    "\n",
    "We can view the deconvolution result for the whole array using `plot_deconv_array()`. Fitted peaks appear in red:"
   ]
  },
  {
   "cell_type": "code",
   "execution_count": null,
   "metadata": {
    "run_control": {
     "marked": false
    }
   },
   "outputs": [],
   "source": [
    "fid_array.plot_deconv_array(upper_ppm=6, lower_ppm=3)"
   ]
  },
  {
   "cell_type": "markdown",
   "metadata": {},
   "source": [
    "Peak integrals of the complete `FidArray` are stored in `deconvoluted_integrals`, or in each individual `Fid` as `deconvoluted_integrals`.\n",
    "\n",
    "The species integrals can easily be plotted using the following code:\n",
    "    "
   ]
  },
  {
   "cell_type": "code",
   "execution_count": null,
   "metadata": {
    "run_control": {
     "marked": false
    }
   },
   "outputs": [],
   "source": [
    "integrals = fid_array.deconvoluted_integrals.transpose()\n",
    "\n",
    "g6p = integrals[0] + integrals[1]\n",
    "f6p = integrals[2]\n",
    "tep = integrals[3]\n",
    "\n",
    "#scale species by internal standard tep (5 mM)\n",
    "g6p = 5.0*g6p/tep.mean()\n",
    "f6p = 5.0*f6p/tep.mean()\n",
    "tep = 5.0*tep/tep.mean()\n",
    "\n",
    "species = {'g6p': g6p,\n",
    "           'f6p': f6p,\n",
    "           'tep': tep}\n",
    "\n",
    "fig = plt.figure()\n",
    "ax = fig.add_subplot(111)\n",
    "for k, v in species.items():\n",
    "    ax.plot(fid_array.t, v, label=k)\n",
    "\n",
    "ax.set_xlabel('min')\n",
    "ax.set_ylabel('mM')\n",
    "ax.legend(loc=0, frameon=False)"
   ]
  },
  {
   "cell_type": "markdown",
   "metadata": {},
   "source": [
    "## Saving / Loading"
   ]
  },
  {
   "cell_type": "markdown",
   "metadata": {},
   "source": [
    "The current state of any `FidArray` object can be saved to file using the `save_to_file()` method:"
   ]
  },
  {
   "cell_type": "code",
   "execution_count": null,
   "metadata": {
    "run_control": {
     "marked": false
    }
   },
   "outputs": [],
   "source": [
    "fid_array.save_to_file(filename='fidarray.nmrpy')"
   ]
  },
  {
   "cell_type": "markdown",
   "metadata": {},
   "source": [
    "And reloaded using `from_path()`:"
   ]
  },
  {
   "cell_type": "code",
   "execution_count": null,
   "metadata": {
    "run_control": {
     "marked": false
    }
   },
   "outputs": [],
   "source": [
    "fid_array = nmrpy.data_objects.FidArray.from_path(fid_path='fidarray.nmrpy')"
   ]
  }
 ],
 "metadata": {
  "kernelspec": {
   "display_name": "Python 3",
   "language": "python",
   "name": "python3"
  },
  "language_info": {
   "codemirror_mode": {
    "name": "ipython",
    "version": 3
   },
   "file_extension": ".py",
   "mimetype": "text/x-python",
   "name": "python",
   "nbconvert_exporter": "python",
   "pygments_lexer": "ipython3",
   "version": "3.8.2"
  },
  "toc": {
   "nav_menu": {},
   "number_sections": true,
   "sideBar": true,
   "skip_h1_title": false,
   "toc_cell": false,
   "toc_position": {},
   "toc_section_display": "block",
   "toc_window_display": true
  },
  "varInspector": {
   "cols": {
    "lenName": 16,
    "lenType": 16,
    "lenVar": 40
   },
   "kernels_config": {
    "python": {
     "delete_cmd_postfix": "",
     "delete_cmd_prefix": "del ",
     "library": "var_list.py",
     "varRefreshCmd": "print(var_dic_list())"
    },
    "r": {
     "delete_cmd_postfix": ") ",
     "delete_cmd_prefix": "rm(",
     "library": "var_list.r",
     "varRefreshCmd": "cat(var_dic_list()) "
    }
   },
   "types_to_exclude": [
    "module",
    "function",
    "builtin_function_or_method",
    "instance",
    "_Feature"
   ],
   "window_display": false
  }
 },
 "nbformat": 4,
 "nbformat_minor": 4
}
